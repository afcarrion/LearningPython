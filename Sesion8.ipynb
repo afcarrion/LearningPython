{
  "nbformat": 4,
  "nbformat_minor": 0,
  "metadata": {
    "colab": {
      "name": "Sesion8.ipynb",
      "provenance": [],
      "collapsed_sections": [],
      "authorship_tag": "ABX9TyPeEmqFl2yo9HT7n3O0dRL3",
      "include_colab_link": true
    },
    "kernelspec": {
      "name": "python3",
      "display_name": "Python 3"
    },
    "language_info": {
      "name": "python"
    }
  },
  "cells": [
    {
      "cell_type": "markdown",
      "metadata": {
        "id": "view-in-github",
        "colab_type": "text"
      },
      "source": [
        "<a href=\"https://colab.research.google.com/github/afcarrion/LearningPython/blob/main/Sesion8.ipynb\" target=\"_parent\"><img src=\"https://colab.research.google.com/assets/colab-badge.svg\" alt=\"Open In Colab\"/></a>"
      ]
    },
    {
      "cell_type": "code",
      "execution_count": 2,
      "metadata": {
        "colab": {
          "base_uri": "https://localhost:8080/"
        },
        "id": "gtu9V5Ejj5Xz",
        "outputId": "1c5b48d9-16ab-4ba7-c46e-29accbdb037a"
      },
      "outputs": [
        {
          "output_type": "stream",
          "name": "stdout",
          "text": [
            "Por favor introduzca la base del triangulo: 5\n",
            "Por favor introduzca la altura del triangulo: 6\n",
            "El area del triangulo es :  15.0\n"
          ]
        }
      ],
      "source": [
        "#Calculo del area de un triangulo\n",
        "baseT = float(input(\"Por favor introduzca la base del triangulo: \"))\n",
        "alturaT = float(input(\"Por favor introduzca la altura del triangulo: \"))\n",
        "\n",
        "areaT = (baseT * alturaT)/2\n",
        "print(\"El area del triangulo es : \", areaT)\n",
        "\n",
        "#Calculo de la venta de un producto\n",
        "#Preba Github\n",
        "\n",
        "\n",
        "\n"
      ]
    },
    {
      "cell_type": "code",
      "source": [
        ""
      ],
      "metadata": {
        "id": "kkbJKFFvmvcB"
      },
      "execution_count": null,
      "outputs": []
    }
  ]
}